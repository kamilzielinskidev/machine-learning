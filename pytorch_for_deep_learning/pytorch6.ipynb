{
 "cells": [
  {
   "cell_type": "code",
   "execution_count": 1,
   "id": "e44d92bf",
   "metadata": {},
   "outputs": [
    {
     "data": {
      "text/plain": [
       "<matplotlib.image.AxesImage at 0x7f7228810f50>"
      ]
     },
     "execution_count": 1,
     "metadata": {},
     "output_type": "execute_result"
    },
    {
     "data": {
      "image/png": "[encoded data removed]",
      "text/plain": [
       "<Figure size 640x480 with 2 Axes>"
      ]
     },
     "metadata": {},
     "output_type": "display_data"
    }
   ],
   "source": [
    "import torch\n",
    "from torchvision import datasets\n",
    "import matplotlib.pyplot as plt\n",
    "from torchvision.transforms import ToTensor\n",
    "from torch import nn\n",
    "import torch.nn.functional as F\n",
    "from torch.utils.data import DataLoader\n",
    "from tqdm.notebook import tqdm\n",
    "\n",
    "train_dataset = datasets.FashionMNIST(\n",
    "    root='data',\n",
    "    train=True,\n",
    "    download=True,\n",
    "    transform=ToTensor(),\n",
    ")\n",
    "\n",
    "test_dataset = datasets.FashionMNIST(\n",
    "    root='data',\n",
    "    train=False,\n",
    "    download=True,\n",
    "    transform=ToTensor(),\n",
    ")\n",
    "\n",
    "fig = plt.figure()\n",
    "fig.add_subplot(1,2,1)\n",
    "plt.imshow(train_dataset.data[0])\n",
    "fig.add_subplot(1,2,2)\n",
    "plt.imshow(test_dataset.data[0])"
   ]
  },
  {
   "cell_type": "code",
   "execution_count": 72,
   "id": "9fc1d256",
   "metadata": {},
   "outputs": [
    {
     "data": {
      "application/vnd.jupyter.widget-view+json": {
       "model_id": "52d14f5f9f6f4274a11489ec993cd2b6",
       "version_major": 2,
       "version_minor": 0
      },
      "text/plain": [
       "  0%|          | 0/1000 [00:00<?, ?it/s]"
      ]
     },
     "metadata": {},
     "output_type": "display_data"
    },
    {
     "name": "stdout",
     "output_type": "stream",
     "text": [
      "Epoch: 0 | Loss: 2.3047966957092285\n",
      "Epoch: 100 | Loss: 1.1058776378631592\n",
      "Epoch: 200 | Loss: 0.8232844471931458\n",
      "Epoch: 300 | Loss: 0.4483908712863922\n",
      "Epoch: 400 | Loss: 0.655351459980011\n",
      "Epoch: 500 | Loss: 0.5489211678504944\n",
      "Epoch: 600 | Loss: 0.6569841504096985\n",
      "Epoch: 700 | Loss: 0.4005873203277588\n",
      "Epoch: 800 | Loss: 0.5122277736663818\n",
      "Epoch: 900 | Loss: 0.7478715777397156\n"
     ]
    }
   ],
   "source": [
    "torch.manual_seed(0)\n",
    "train_dataloader = DataLoader(train_dataset,\n",
    "    batch_size=32,\n",
    "    shuffle=True\n",
    ")\n",
    "\n",
    "model_0_1 = nn.Sequential(\n",
    "    nn.Conv2d(1,10,3),\n",
    "    nn.ReLU(),\n",
    "    nn.Conv2d(10,10,3),\n",
    "    nn.ReLU(),\n",
    "    nn.MaxPool2d(2,2),\n",
    ")\n",
    "\n",
    "model_0_2 = nn.Sequential(\n",
    "    nn.Conv2d(10,10,3),\n",
    "    nn.ReLU(),\n",
    "    nn.MaxPool2d(2,2),\n",
    ")\n",
    "\n",
    "model_0_3 = nn.Sequential(\n",
    "    nn.Flatten(),\n",
    "    nn.Linear(250, 10),\n",
    ")\n",
    "\n",
    "model_0 = nn.Sequential(\n",
    "    model_0_1,\n",
    "    model_0_2,\n",
    "    model_0_3\n",
    ")\n",
    "\n",
    "\n",
    "criterion = nn.CrossEntropyLoss()\n",
    "optimizer = torch.optim.Adam(model_0.parameters(), lr=0.001)\n",
    "\n",
    "epochs = 1000\n",
    "\n",
    "for epoch in tqdm(range(epochs)):\n",
    "    model_0.train()\n",
    "\n",
    "    [data,labels] = next(iter(train_dataloader))\n",
    "\n",
    "    logits = model_0(data)\n",
    "    labels = F.one_hot(labels,len(train_dataset.classes)).type(torch.float)\n",
    "    loss = criterion(logits, labels)\n",
    "\n",
    "    optimizer.zero_grad()\n",
    "    loss.backward()\n",
    "    optimizer.step()\n",
    "\n",
    "    if epoch % (epochs / 10) == 0:\n",
    "        print(f\"Epoch: {epoch} | Loss: {loss}\")"
   ]
  },
  {
   "cell_type": "code",
   "execution_count": 85,
   "id": "51e51101",
   "metadata": {},
   "outputs": [
    {
     "data": {
      "text/plain": [
       "Text(0.5, 1.0, 'Predicted: Trouser | Score: 100.00%')"
      ]
     },
     "execution_count": 85,
     "metadata": {},
     "output_type": "execute_result"
    },
    {
     "data": {
      "image/png": "[encoded data removed]",
      "text/plain": [
       "<Figure size 640x480 with 1 Axes>"
      ]
     },
     "metadata": {},
     "output_type": "display_data"
    }
   ],
   "source": [
    "torch.manual_seed(0)\n",
    "random_item_index = torch.randint(0, len(test_dataset), (1,)).item()\n",
    "random_item = test_dataset[random_item_index]\n",
    "\n",
    "img,_ = random_item\n",
    "\n",
    "labelIndex = model_0(img.unsqueeze(dim=0))\n",
    "\n",
    "highest_score_index = torch.argmax(labelIndex).item()\n",
    "highest_score_percent = F.softmax(labelIndex, dim=1).squeeze()[highest_score_index].item() * 100\n",
    "label = test_dataset.classes[highest_score_index]\n",
    "\n",
    "fig = plt.figure()\n",
    "fig.add_subplot(1,2,1)\n",
    "plt.imshow(img.squeeze())\n",
    "plt.title(f\"Predicted: {label} | Score: {highest_score_percent:.2f}%\")"
   ]
  }
 ],
 "metadata": {
  "kernelspec": {
   "display_name": ".venv",
   "language": "python",
   "name": "python3"
  },
  "language_info": {
   "codemirror_mode": {
    "name": "ipython",
    "version": 3
   },
   "file_extension": ".py",
   "mimetype": "text/x-python",
   "name": "python",
   "nbconvert_exporter": "python",
   "pygments_lexer": "ipython3",
   "version": "3.12.3"
  }
 },
 "nbformat": 4,
 "nbformat_minor": 5
}
