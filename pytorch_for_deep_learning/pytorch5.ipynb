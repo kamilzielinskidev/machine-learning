{
 "cells": [
  {
   "cell_type": "code",
   "execution_count": 18,
   "id": "9c910530",
   "metadata": {},
   "outputs": [
    {
     "data": {
      "text/plain": [
       "<matplotlib.image.AxesImage at 0x7f6e45ee2fc0>"
      ]
     },
     "execution_count": 18,
     "metadata": {},
     "output_type": "execute_result"
    },
    {
     "data": {
      "image/png": "[encoded data removed]",
      "text/plain": [
       "<Figure size 640x480 with 2 Axes>"
      ]
     },
     "metadata": {},
     "output_type": "display_data"
    }
   ],
   "source": [
    "import torch\n",
    "from torchvision import datasets\n",
    "import matplotlib.pyplot as plt\n",
    "from torchvision.transforms import ToTensor\n",
    "from torch import nn\n",
    "import torch.nn.functional as F\n",
    "from torch.utils.data import DataLoader\n",
    "\n",
    "train_dataset = datasets.FashionMNIST(\n",
    "    root='data',\n",
    "    train=True,\n",
    "    download=True,\n",
    "    transform=ToTensor(),\n",
    ")\n",
    "\n",
    "test_dataset = datasets.FashionMNIST(\n",
    "    root='data',\n",
    "    train=False,\n",
    "    download=True,\n",
    "    transform=ToTensor(),\n",
    ")\n",
    "\n",
    "fig = plt.figure()\n",
    "fig.add_subplot(1,2,1)\n",
    "plt.imshow(train_dataset.data[0])\n",
    "fig.add_subplot(1,2,2)\n",
    "plt.imshow(test_dataset.data[0])"
   ]
  },
  {
   "cell_type": "code",
   "execution_count": 29,
   "id": "8a1a08dd",
   "metadata": {},
   "outputs": [
    {
     "name": "stdout",
     "output_type": "stream",
     "text": [
      "Epoch: 0 | Loss: 2.2460572719573975\n",
      "Epoch: 100 | Loss: 0.976836621761322\n",
      "Epoch: 200 | Loss: 0.8899368047714233\n",
      "Epoch: 300 | Loss: 0.5848990082740784\n",
      "Epoch: 400 | Loss: 0.7442419528961182\n",
      "Epoch: 500 | Loss: 0.43125542998313904\n",
      "Epoch: 600 | Loss: 0.6149239540100098\n",
      "Epoch: 700 | Loss: 0.36920055747032166\n",
      "Epoch: 800 | Loss: 0.3448770046234131\n",
      "Epoch: 900 | Loss: 0.4147862195968628\n"
     ]
    },
    {
     "data": {
      "text/plain": [
       "Sequential(\n",
       "  (0): Flatten(start_dim=1, end_dim=-1)\n",
       "  (1): Linear(in_features=784, out_features=128, bias=True)\n",
       "  (2): Sigmoid()\n",
       "  (3): Linear(in_features=128, out_features=10, bias=True)\n",
       ")"
      ]
     },
     "execution_count": 29,
     "metadata": {},
     "output_type": "execute_result"
    }
   ],
   "source": [
    "torch.manual_seed(0)\n",
    "model_0 = nn.Sequential(\n",
    "    nn.Flatten(),\n",
    "    nn.Linear(784,128),\n",
    "    nn.Sigmoid(),\n",
    "    nn.Linear(128,10)\n",
    ")\n",
    "\n",
    "criterion = nn.CrossEntropyLoss()\n",
    "optimizer = torch.optim.Adam(model_0.parameters(), lr=0.001)\n",
    "\n",
    "epochs = 1000\n",
    "\n",
    "train_dataloader = DataLoader(train_dataset,\n",
    "    batch_size=32,\n",
    "    shuffle=True\n",
    ")\n",
    "\n",
    "for epoch in range(epochs):\n",
    "    model_0.train()\n",
    "\n",
    "    [train_img, train_label] = next(iter(train_dataloader))\n",
    "    X_parsed_train = train_img.squeeze()\n",
    "\n",
    "    y_logits = model_0(X_parsed_train)\n",
    "    y_parsed_train = F.one_hot(train_label,10).type(torch.float)\n",
    "\n",
    "    loss = criterion(y_logits, y_parsed_train)\n",
    "\n",
    "    if epoch % (epochs / 10) == 0:\n",
    "        print(f\"Epoch: {epoch} | Loss: {loss}\")\n",
    "\n",
    "    optimizer.zero_grad()\n",
    "    loss.backward()\n",
    "    optimizer.step()\n",
    "\n",
    "model_0.eval()"
   ]
  },
  {
   "cell_type": "code",
   "execution_count": 20,
   "id": "e07d5933",
   "metadata": {},
   "outputs": [
    {
     "data": {
      "text/plain": [
       "Text(0.5, 1.0, 'Predicted: Trouser | Score: 99.40%')"
      ]
     },
     "execution_count": 20,
     "metadata": {},
     "output_type": "execute_result"
    },
    {
     "data": {
      "image/png": "[encoded data removed]",
      "text/plain": [
       "<Figure size 640x480 with 1 Axes>"
      ]
     },
     "metadata": {},
     "output_type": "display_data"
    }
   ],
   "source": [
    "torch.manual_seed(0)\n",
    "random_item_index = torch.randint(0, len(test_dataset), (1,)).item()\n",
    "random_item = test_dataset[random_item_index]\n",
    "\n",
    "img,_ = random_item\n",
    "labelIndex = model_0(img)\n",
    "highest_score_index = torch.argmax(labelIndex).item()\n",
    "highest_score_percent = F.softmax(labelIndex, dim=1).squeeze()[highest_score_index].item() * 100\n",
    "label = test_dataset.classes[highest_score_index]\n",
    "\n",
    "fig = plt.figure()\n",
    "fig.add_subplot(1,2,1)\n",
    "plt.imshow(img.squeeze())\n",
    "plt.title(f\"Predicted: {label} | Score: {highest_score_percent:.2f}%\")"
   ]
  }
 ],
 "metadata": {
  "kernelspec": {
   "display_name": ".venv",
   "language": "python",
   "name": "python3"
  },
  "language_info": {
   "codemirror_mode": {
    "name": "ipython",
    "version": 3
   },
   "file_extension": ".py",
   "mimetype": "text/x-python",
   "name": "python",
   "nbconvert_exporter": "python",
   "pygments_lexer": "ipython3",
   "version": "3.12.3"
  }
 },
 "nbformat": 4,
 "nbformat_minor": 5
}
