{
 "cells": [
  {
   "cell_type": "code",
   "execution_count": null,
   "metadata": {},
   "outputs": [],
   "source": [
    "import torch\n",
    "\n",
    "# y = ax + b\n",
    "weight = 0.7 # a\n",
    "bias = 0.3 # b\n",
    "\n",
    "x = torch.arange(0,50,1)\n",
    "y = weight * x  + bias\n",
    "x, y"
   ]
  },
  {
   "cell_type": "code",
   "execution_count": null,
   "metadata": {},
   "outputs": [],
   "source": [
    "import matplotlib.pyplot as plt\n",
    "\n",
    "fix, ax = plt.subplots()\n",
    "\n",
    "ax.plot(x, y)\n",
    "ax.grid()"
   ]
  },
  {
   "cell_type": "code",
   "execution_count": 39,
   "metadata": {},
   "outputs": [],
   "source": [
    "import math\n",
    "\n",
    "split_ratio = math.floor(len(x) * 0.8)\n",
    "\n",
    "x_train, y_train = x[:split_ratio], y[:split_ratio]\n",
    "x_test, y_test = x[split_ratio:], y[split_ratio:]"
   ]
  },
  {
   "cell_type": "code",
   "execution_count": null,
   "metadata": {},
   "outputs": [],
   "source": [
    "fix, ax = plt.subplots()\n",
    "ax.scatter(x_train, y_train)\n",
    "ax.scatter(x_test, y_test)"
   ]
  },
  {
   "cell_type": "code",
   "execution_count": null,
   "metadata": {},
   "outputs": [],
   "source": [
    "from torch import nn\n",
    "\n",
    "class LRModel(nn.Module):\n",
    "    def __init__(self):\n",
    "        super().__init__()\n",
    "        self.weights = nn.Parameter(torch.randn(1, requires_grad=True))\n",
    "        self.bias = nn.Parameter(torch.randn(1, requires_grad=True))\n",
    "\n",
    "    def forward(self, x):\n",
    "        return self.weights * x + self.bias\n",
    "    \n",
    "lr = LRModel()\n",
    "\n",
    "y_pred = lr(x_test)\n",
    "\n",
    "fix, ax = plt.subplots()\n",
    "ax.scatter(x_test, y_test)\n",
    "ax.scatter(x_test, y_pred.detach().numpy())"
   ]
  }
 ],
 "metadata": {
  "kernelspec": {
   "display_name": ".venv",
   "language": "python",
   "name": "python3"
  },
  "language_info": {
   "codemirror_mode": {
    "name": "ipython",
    "version": 3
   },
   "file_extension": ".py",
   "mimetype": "text/x-python",
   "name": "python",
   "nbconvert_exporter": "python",
   "pygments_lexer": "ipython3",
   "version": "3.12.3"
  }
 },
 "nbformat": 4,
 "nbformat_minor": 2
}
