{
 "cells": [
  {
   "cell_type": "code",
   "execution_count": null,
   "metadata": {},
   "outputs": [],
   "source": [
    "import torch\n",
    "\n",
    "# y = ax + b\n",
    "weight = 0.7 # a\n",
    "bias = 0.3 # b\n",
    "\n",
    "x = torch.arange(0,50,1)\n",
    "y = weight * x  + bias\n",
    "x, y"
   ]
  },
  {
   "cell_type": "code",
   "execution_count": null,
   "metadata": {},
   "outputs": [],
   "source": [
    "import matplotlib.pyplot as plt\n",
    "\n",
    "fix, ax = plt.subplots()\n",
    "\n",
    "ax.plot(x, y)\n",
    "ax.grid()"
   ]
  },
  {
   "cell_type": "code",
   "execution_count": null,
   "metadata": {},
   "outputs": [],
   "source": [
    "import math\n",
    "\n",
    "split_ratio = math.floor(len(x) * 0.8)\n",
    "\n",
    "x_train, y_train = x[:split_ratio], y[:split_ratio]\n",
    "x_test, y_test = x[split_ratio:], y[split_ratio:]"
   ]
  },
  {
   "cell_type": "code",
   "execution_count": null,
   "metadata": {},
   "outputs": [],
   "source": [
    "fix, ax = plt.subplots()\n",
    "ax.scatter(x_train, y_train)\n",
    "ax.scatter(x_test, y_test)"
   ]
  },
  {
   "cell_type": "code",
   "execution_count": null,
   "metadata": {},
   "outputs": [],
   "source": [
    "from torch import nn\n",
    "\n",
    "class LRModel(nn.Module):\n",
    "    def __init__(self):\n",
    "        super().__init__()\n",
    "        self.weights = nn.Parameter(torch.randn(1, requires_grad=True))\n",
    "        self.bias = nn.Parameter(torch.randn(1, requires_grad=True))\n",
    "\n",
    "    def forward(self, x):\n",
    "        return self.weights * x + self.bias\n",
    "    \n",
    "lr = LRModel()\n",
    "\n",
    "y_pred = lr(x_test)\n",
    "\n",
    "fix, ax = plt.subplots()\n",
    "ax.scatter(x_test, y_test)\n",
    "ax.scatter(x_test, y_pred.detach().numpy())"
   ]
  },
  {
   "cell_type": "code",
   "execution_count": null,
   "metadata": {},
   "outputs": [],
   "source": [
    "lr = LRModel()\n",
    "\n",
    "criterion = nn.L1Loss()\n",
    "optimizer = torch.optim.Adam(params=lr.parameters())\n",
    "epochs = 0\n",
    "\n",
    "while True:\n",
    "    epochs += 1\n",
    "    lr.train()\n",
    "\n",
    "    y_pred = lr(x_train)\n",
    "    loss = criterion(y_pred, y_train)\n",
    "    print(loss, end=\"\\r\")\n",
    "\n",
    "    if(loss < 0.001):\n",
    "        break\n",
    "\n",
    "    optimizer.zero_grad()\n",
    "    loss.backward()\n",
    "    optimizer.step()\n",
    "\n",
    "fix, ax = plt.subplots()\n",
    "ax.scatter(x_test, y_test)\n",
    "y_pred = lr(x_test)\n",
    "ax.scatter(x_test, y_pred.detach().numpy())\n",
    "\n",
    "print(list(lr.parameters()))\n",
    "print(epochs)"
   ]
  }
 ],
 "metadata": {
  "kernelspec": {
   "display_name": ".venv",
   "language": "python",
   "name": "python3"
  },
  "language_info": {
   "codemirror_mode": {
    "name": "ipython",
    "version": 3
   },
   "file_extension": ".py",
   "mimetype": "text/x-python",
   "name": "python",
   "nbconvert_exporter": "python",
   "pygments_lexer": "ipython3",
   "version": "3.13.2"
  }
 },
 "nbformat": 4,
 "nbformat_minor": 2
}
