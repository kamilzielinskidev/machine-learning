{
 "cells": [
  {
   "cell_type": "code",
   "execution_count": null,
   "metadata": {},
   "outputs": [],
   "source": [
    "import torch\n",
    "\n",
    "TENSOR = torch.tensor([\n",
    "    [\n",
    "        [1,2,3],\n",
    "        [4,5,6]\n",
    "    ],\n",
    "    [\n",
    "        [7,8,9],\n",
    "        [10,11,12]\n",
    "    ]\n",
    "])\n",
    "\n",
    "TENSOR.shape"
   ]
  },
  {
   "cell_type": "code",
   "execution_count": null,
   "metadata": {},
   "outputs": [],
   "source": [
    "RANDOM_TENSOR = torch.rand(2,2)\n",
    "RANDOM_TENSOR"
   ]
  },
  {
   "cell_type": "code",
   "execution_count": null,
   "metadata": {},
   "outputs": [],
   "source": [
    "ZEROS = torch.zeros(2,2)\n",
    "ZEROS"
   ]
  },
  {
   "cell_type": "code",
   "execution_count": null,
   "metadata": {},
   "outputs": [],
   "source": [
    "one_to_ten = torch.arange(1,11,1)\n",
    "torch.zeros_like(one_to_ten)"
   ]
  },
  {
   "cell_type": "code",
   "execution_count": null,
   "metadata": {},
   "outputs": [],
   "source": [
    "FLOAT_32_TENSOR = torch.tensor([0, 0.1, 9.0, 257], \n",
    "                               dtype=torch.float32, # data type, float16\n",
    "                               device='cpu', # device that the tensor is stored on\n",
    ")\n",
    "print(FLOAT_32_TENSOR) \n",
    "FLOAT_16_TENSOR = FLOAT_32_TENSOR.type(torch.float16)\n",
    "print(FLOAT_16_TENSOR)\n",
    "INT_8_TENSOR = FLOAT_32_TENSOR.type(torch.int8)\n",
    "print(INT_8_TENSOR)\n",
    "BOOL_TENSOR = FLOAT_32_TENSOR.type(torch.bool)\n",
    "print(BOOL_TENSOR)"
   ]
  },
  {
   "cell_type": "code",
   "execution_count": null,
   "metadata": {},
   "outputs": [],
   "source": [
    "ADD_TENSOR = torch.tensor([\n",
    "    [1,2,3],\n",
    "    [4,5,6]\n",
    "])\n",
    "ADD_TENSOR = ADD_TENSOR + 2\n",
    "torch.add(ADD_TENSOR, 2)"
   ]
  },
  {
   "cell_type": "code",
   "execution_count": null,
   "metadata": {},
   "outputs": [],
   "source": [
    "TENSOR_1 = torch.tensor([\n",
    "    [1,2,3],\n",
    "    [4,5,4]\n",
    "])\n",
    "TENSOR_2 = torch.tensor([\n",
    "    [7,8],\n",
    "    [10,11],\n",
    "    [12,13]\n",
    "])\n",
    "torch.matmul(TENSOR_1, TENSOR_2)"
   ]
  },
  {
   "cell_type": "code",
   "execution_count": 9,
   "metadata": {},
   "outputs": [],
   "source": [
    "TENSOR_3 = torch.rand(int(1e3),int(1e3))\n",
    "TENSOR_4 = torch.rand(int(1e3),int(1e3))"
   ]
  },
  {
   "cell_type": "code",
   "execution_count": null,
   "metadata": {},
   "outputs": [],
   "source": [
    "torch.matmul(TENSOR_3, TENSOR_4)"
   ]
  },
  {
   "cell_type": "code",
   "execution_count": null,
   "metadata": {},
   "outputs": [],
   "source": [
    "TENSOR_5 = torch.arange(0,8)\n",
    "TENSOR_5 = TENSOR_5.reshape(2,2,2).reshape(2,4)\n",
    "\n",
    "TENSOR_5, TENSOR_5.shape"
   ]
  },
  {
   "cell_type": "code",
   "execution_count": null,
   "metadata": {},
   "outputs": [],
   "source": [
    "TENSOR_6 = torch.arange(8)\n",
    "\n",
    "TENSOR_3D_MATRIX = TENSOR_6.reshape(2,2,2)\n",
    "# TENSOR_3D_MATRIX = TENSOR_3D_MATRIX.permute(2,1,0)\n",
    "TENSOR_3D_MATRIX"
   ]
  },
  {
   "cell_type": "code",
   "execution_count": null,
   "metadata": {},
   "outputs": [],
   "source": [
    "TENSOR_7 = torch.arange(9).reshape(1,3,1,3)\n",
    "print(TENSOR_7, TENSOR_7.shape)\n",
    "TENSOR_7 = TENSOR_7[:,:,:,1].reshape(3)\n",
    "print(TENSOR_7, TENSOR_7.shape)"
   ]
  }
 ],
 "metadata": {
  "kernelspec": {
   "display_name": ".venv",
   "language": "python",
   "name": "python3"
  },
  "language_info": {
   "codemirror_mode": {
    "name": "ipython",
    "version": 3
   },
   "file_extension": ".py",
   "mimetype": "text/x-python",
   "name": "python",
   "nbconvert_exporter": "python",
   "pygments_lexer": "ipython3",
   "version": "3.12.3"
  }
 },
 "nbformat": 4,
 "nbformat_minor": 2
}
